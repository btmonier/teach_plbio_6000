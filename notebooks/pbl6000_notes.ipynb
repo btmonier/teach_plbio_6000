{
 "cells": [
  {
   "cell_type": "markdown",
   "metadata": {},
   "source": [
    "# PBL6000 Notes and Walkthrough\n",
    "\n",
    "## Description\n",
    "In this notebook, we will be going over Travis Wrightsman's walkthrough for the PBL6000 teaching seminar.\n",
    "\n",
    "## Preamble\n",
    "Create and activate the workshop conda environment:"
   ]
  },
  {
   "cell_type": "code",
   "execution_count": 4,
   "metadata": {},
   "outputs": [],
   "source": [
    "## Install bedtools and samtools (if needed)\n",
    "# conda install -c bioconda bedtools\n",
    "# conda install -c bioconda samtools"
   ]
  },
  {
   "cell_type": "code",
   "execution_count": null,
   "metadata": {},
   "outputs": [],
   "source": [
    "conda create -c pytorch -c bioconda -c conda-forge -c defaults -n deep-tf \"python>=3.8\" \"pytorch>=1.5\" torchvision \"biopython>=1.70\" scikit-learn \"matplotlib>=3\" \"pandas>=1\" numpy bedtools samtools"
   ]
  }
 ],
 "metadata": {
  "kernelspec": {
   "display_name": "Python 3",
   "language": "python",
   "name": "python3"
  },
  "language_info": {
   "codemirror_mode": {
    "name": "ipython",
    "version": 3
   },
   "file_extension": ".py",
   "mimetype": "text/x-python",
   "name": "python",
   "nbconvert_exporter": "python",
   "pygments_lexer": "ipython3",
   "version": "3.7.7"
  }
 },
 "nbformat": 4,
 "nbformat_minor": 4
}
